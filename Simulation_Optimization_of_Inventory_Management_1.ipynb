{
  "nbformat": 4,
  "nbformat_minor": 0,
  "metadata": {
    "colab": {
      "name": "Simulation_Optimization_of_Inventory_Management_1.ipynb",
      "provenance": [],
      "collapsed_sections": []
    },
    "kernelspec": {
      "name": "python3",
      "display_name": "Python 3"
    },
    "language_info": {
      "name": "python"
    }
  },
  "cells": [
    {
      "cell_type": "code",
      "metadata": {
        "id": "5oWKlICj92Ix"
      },
      "source": [
        "import numpy as np\n",
        "import random as r\n",
        "from matplotlib import pyplot as plt\n",
        "import pandas as pd"
      ],
      "execution_count": 1,
      "outputs": []
    },
    {
      "cell_type": "code",
      "metadata": {
        "id": "NyhGueJu93PM"
      },
      "source": [
        "def get_Q(I,M,L,lead_time):\n",
        "  #I is current inventory\n",
        "  if I < L and 0<= lead_time <= 1:\n",
        "    QU = M-I\n",
        "  elif lead_time ==20 and I < L:\n",
        "    QU = M-I\n",
        "  else:\n",
        "    QU = 0\n",
        "  return QU "
      ],
      "execution_count": 2,
      "outputs": []
    },
    {
      "cell_type": "code",
      "metadata": {
        "id": "m9xLwUun94uA"
      },
      "source": [
        "def order_cost(Q):\n",
        "  if Q > 0:\n",
        "   return 60 + 5*Q\n",
        "  else:\n",
        "    return 0"
      ],
      "execution_count": 3,
      "outputs": []
    },
    {
      "cell_type": "code",
      "metadata": {
        "id": "aCpx95bX9764"
      },
      "source": [
        "def back_cost(I):\n",
        "  if I < 0:\n",
        "    return -I*4\n",
        "  else:\n",
        "    return 0 "
      ],
      "execution_count": 4,
      "outputs": []
    },
    {
      "cell_type": "code",
      "metadata": {
        "id": "XHMXSkKf99oh"
      },
      "source": [
        "def inv_cost(I):\n",
        "  if I > 0:\n",
        "    return I\n",
        "  else:\n",
        "    return 0"
      ],
      "execution_count": 5,
      "outputs": []
    },
    {
      "cell_type": "code",
      "metadata": {
        "id": "tIBdTfN59_5Q"
      },
      "source": [
        "#funtion to calculate revenue\n",
        "def selling(inv,monthly_demand,order_reciept,start_inv):\n",
        "  b = start_inv\n",
        "  m = inv\n",
        "  revenue = []\n",
        "  for i in range(1):\n",
        "    if order_reciept[i]+b[i] > 0:\n",
        "      sales = min(order_reciept[i]+b[i],monthly_demand[i])*10\n",
        "      revenue.append(sales)\n",
        "\n",
        "  for i in range(1,len(inv),1):\n",
        "    z = m[i-1] \n",
        "    if z > 0 :\n",
        "      sales = min(z,monthly_demand[i])*5\n",
        "      if monthly_demand[i] > z:\n",
        "        sales = sales+ 10*min(b[i]-z,monthly_demand[i]-z)\n",
        "    elif b[i] > 0:\n",
        "      if m[i-1] >= 0:\n",
        "        sales = min(b[i],monthly_demand[i])*10\n",
        "      else:\n",
        "        sales = min(order_reciept[i],monthly_demand[i]-m[i-1])*10\n",
        "    else:\n",
        "      sales = 0\n",
        "    revenue.append(sales)\n",
        "  return revenue"
      ],
      "execution_count": 6,
      "outputs": []
    },
    {
      "cell_type": "code",
      "metadata": {
        "id": "xNlTIH3i-hX4"
      },
      "source": [
        "def simulation(no_of_replication = 1, length_of_each_run = 100 ):\n",
        "  L = length_of_each_run\n",
        "  n = no_of_replication\n",
        "  mean_profit = []\n",
        "  mean_monthly_cost = []\n",
        "  sl = [] # cycle service level\n",
        "  data = pd.DataFrame(data = None)\n",
        "  for i in range(n):\n",
        "    z = -1\n",
        "    order_reciept = int(L+2)*[0] # creating this for assigning order quantity recival to particular month because suppose if lead time is more than 1 month then adding order quantity in second month\n",
        "    I = 50 #initial inventory\n",
        "    monthly_cost = []\n",
        "    monthly_orders = []\n",
        "    monthly_demand = []\n",
        "    start_inv = []\n",
        "    t = 0 #initial month\n",
        "    L_time = 20\n",
        "    inv = []\n",
        "    lead = []\n",
        "    while t < L: # run for L month\n",
        "      I = I + order_reciept[t] # assigned order quantity if lead time is more than 1 month \n",
        "      start_inv.append(I)\n",
        "      d_t = 0 # initialize demand time in given month\n",
        "      dm = [] \n",
        "      while d_t < 1: # writing code to evaluate total demand occured in a given month\n",
        "        d_t = d_t + r.expovariate(15)\n",
        "        pr = r.uniform(0,1)\n",
        "        if pr >= 0 and pr<= 0.5:\n",
        "          D = 1\n",
        "        elif 0.5 < pr <= 0.75:\n",
        "          D = 2\n",
        "        elif 0.75 < pr <= 7/8:  \n",
        "          D = 3\n",
        "        else:\n",
        "          D = 4\n",
        "        dm.append(D)\n",
        "      demand = sum(dm) # this will give total demand of that month\n",
        "      monthly_demand.append(demand)\n",
        "\n",
        "      I = I -demand\n",
        "\n",
        "      if t >= 1:\n",
        "        z = inv[t-1]   - monthly_demand[t]\n",
        "      if z > 0:\n",
        "        I = I - z\n",
        "      Q = get_Q(I,50,30,L_time)  ######\n",
        "      monthly_cost.append(order_cost(Q)+back_cost(I)+ inv_cost(I))\n",
        "      inv.append(I)\n",
        "      monthly_orders.append(Q)\n",
        "      if Q > 0:\n",
        "        L_time = r.uniform(0.25,1.25)\n",
        "      else:\n",
        "        L_time = 0\n",
        "      lead.append(L_time)\n",
        "      if 0.25 <= L_time <= 1 and Q > 0: #if lead time is less than 1 month that means we are getting our ordered quantity in next month\n",
        "        order_reciept[t+1] = Q\n",
        "      elif L_time > 1 and Q > 0: # therefore in next month inventory becomes on hand inventory plus recieved quanity\n",
        "        order_reciept[t+2] = Q\n",
        "        order_reciept[t+1] = 0\n",
        "      t = t + 1 \n",
        "    #print('inv',inv)\n",
        "    #print('demand',monthly_demand)\n",
        "    #print('order_reciept',order_reciept)\n",
        "    #print('leadtime',lead) \n",
        "    #print('monthlycost',monthly_cost)\n",
        "    seling = selling(inv,monthly_demand,order_reciept,start_inv)\n",
        "    mean_profit.append(-np.mean(monthly_cost)+ np.mean(seling)) \n",
        "    mean_monthly_cost.append(np.mean(monthly_cost))\n",
        "    #data['START INVENTORY'] = start_inv[:10]\n",
        "    data['MONTHLY DEMAND'] = monthly_demand[:10]\n",
        "    data['ORDER RECEIPT'] = order_reciept[:10]\n",
        "    data['END INVENTORY'] = inv[:10]\n",
        "    data['MONTHLY ORDER'] = monthly_orders[:10]\n",
        "    data['MONTHLY COST'] = monthly_cost[:10]\n",
        "    data['MONTHLY SELLING'] = seling[:10]\n",
        "    modified_inv = [50,*inv]\n",
        "    #print('mod inv',modified_inv)\n",
        "    ser_level_list = []\n",
        "    sl_count = 0\n",
        "    for i in range(len(monthly_demand)):\n",
        "      ser_level_list.append(modified_inv[i] + order_reciept[i] - monthly_demand[i])\n",
        "    for service_level in ser_level_list:\n",
        "      if service_level >= 0:\n",
        "        sl_count += 1\n",
        "    sl.append(sl_count/len(monthly_demand))\n",
        "  return mean_profit,mean_monthly_cost,sl ,data"
      ],
      "execution_count": 7,
      "outputs": []
    },
    {
      "cell_type": "markdown",
      "metadata": {
        "id": "_1rt2BSS93xk"
      },
      "source": [
        "$mean\\_monthly\\_cost$ is a list of length = no. of replications . Each element represent average monthly cost averaged over length of each run. Similarly for $mean\\_profit$.\n",
        "\n",
        "$sl$ is a list of length = no. of replications. Each element shows averaged cycle service level averaged over length of each run.\n",
        "\n",
        "$data$ gives a datafram containing first 10 month cost, inventory, order_receipt, monthly_order etc. for the last simulation run. It will be usefull for verifying the code."
      ]
    },
    {
      "cell_type": "markdown",
      "metadata": {
        "id": "6PJm7WamE7i_"
      },
      "source": [
        "Now lets run a example simulation with just one run."
      ]
    },
    {
      "cell_type": "code",
      "metadata": {
        "colab": {
          "base_uri": "https://localhost:8080/",
          "height": 363
        },
        "id": "_1QtkdqpE3G9",
        "outputId": "fc80c112-007e-4134-eb3e-b14b520cf6b7"
      },
      "source": [
        "#example run\n",
        "mmp, mmc ,sl_list ,data= simulation(1)\n",
        "data"
      ],
      "execution_count": 8,
      "outputs": [
        {
          "output_type": "execute_result",
          "data": {
            "text/plain": [
              "   MONTHLY DEMAND  ORDER RECEIPT  END INVENTORY  MONTHLY ORDER  MONTHLY COST  \\\n",
              "0              20              0             30              0            30   \n",
              "1              24              0              0             50           310   \n",
              "2              24              0            -24              0            96   \n",
              "3              30             50             -4             54           346   \n",
              "4              44             54              6             44           286   \n",
              "5              40             44             10             40           270   \n",
              "6              26             40             24             26           214   \n",
              "7              32             26             18             32           238   \n",
              "8              31             32             19             31           234   \n",
              "9              45              0            -26              0           104   \n",
              "\n",
              "   MONTHLY SELLING  \n",
              "0              200  \n",
              "1              120  \n",
              "2                0  \n",
              "3              500  \n",
              "4              480  \n",
              "5              370  \n",
              "6              210  \n",
              "7              200  \n",
              "8              220  \n",
              "9               95  "
            ],
            "text/html": [
              "\n",
              "  <div id=\"df-62dad21b-bd5d-460f-b90a-ea28f2338f69\">\n",
              "    <div class=\"colab-df-container\">\n",
              "      <div>\n",
              "<style scoped>\n",
              "    .dataframe tbody tr th:only-of-type {\n",
              "        vertical-align: middle;\n",
              "    }\n",
              "\n",
              "    .dataframe tbody tr th {\n",
              "        vertical-align: top;\n",
              "    }\n",
              "\n",
              "    .dataframe thead th {\n",
              "        text-align: right;\n",
              "    }\n",
              "</style>\n",
              "<table border=\"1\" class=\"dataframe\">\n",
              "  <thead>\n",
              "    <tr style=\"text-align: right;\">\n",
              "      <th></th>\n",
              "      <th>MONTHLY DEMAND</th>\n",
              "      <th>ORDER RECEIPT</th>\n",
              "      <th>END INVENTORY</th>\n",
              "      <th>MONTHLY ORDER</th>\n",
              "      <th>MONTHLY COST</th>\n",
              "      <th>MONTHLY SELLING</th>\n",
              "    </tr>\n",
              "  </thead>\n",
              "  <tbody>\n",
              "    <tr>\n",
              "      <th>0</th>\n",
              "      <td>20</td>\n",
              "      <td>0</td>\n",
              "      <td>30</td>\n",
              "      <td>0</td>\n",
              "      <td>30</td>\n",
              "      <td>200</td>\n",
              "    </tr>\n",
              "    <tr>\n",
              "      <th>1</th>\n",
              "      <td>24</td>\n",
              "      <td>0</td>\n",
              "      <td>0</td>\n",
              "      <td>50</td>\n",
              "      <td>310</td>\n",
              "      <td>120</td>\n",
              "    </tr>\n",
              "    <tr>\n",
              "      <th>2</th>\n",
              "      <td>24</td>\n",
              "      <td>0</td>\n",
              "      <td>-24</td>\n",
              "      <td>0</td>\n",
              "      <td>96</td>\n",
              "      <td>0</td>\n",
              "    </tr>\n",
              "    <tr>\n",
              "      <th>3</th>\n",
              "      <td>30</td>\n",
              "      <td>50</td>\n",
              "      <td>-4</td>\n",
              "      <td>54</td>\n",
              "      <td>346</td>\n",
              "      <td>500</td>\n",
              "    </tr>\n",
              "    <tr>\n",
              "      <th>4</th>\n",
              "      <td>44</td>\n",
              "      <td>54</td>\n",
              "      <td>6</td>\n",
              "      <td>44</td>\n",
              "      <td>286</td>\n",
              "      <td>480</td>\n",
              "    </tr>\n",
              "    <tr>\n",
              "      <th>5</th>\n",
              "      <td>40</td>\n",
              "      <td>44</td>\n",
              "      <td>10</td>\n",
              "      <td>40</td>\n",
              "      <td>270</td>\n",
              "      <td>370</td>\n",
              "    </tr>\n",
              "    <tr>\n",
              "      <th>6</th>\n",
              "      <td>26</td>\n",
              "      <td>40</td>\n",
              "      <td>24</td>\n",
              "      <td>26</td>\n",
              "      <td>214</td>\n",
              "      <td>210</td>\n",
              "    </tr>\n",
              "    <tr>\n",
              "      <th>7</th>\n",
              "      <td>32</td>\n",
              "      <td>26</td>\n",
              "      <td>18</td>\n",
              "      <td>32</td>\n",
              "      <td>238</td>\n",
              "      <td>200</td>\n",
              "    </tr>\n",
              "    <tr>\n",
              "      <th>8</th>\n",
              "      <td>31</td>\n",
              "      <td>32</td>\n",
              "      <td>19</td>\n",
              "      <td>31</td>\n",
              "      <td>234</td>\n",
              "      <td>220</td>\n",
              "    </tr>\n",
              "    <tr>\n",
              "      <th>9</th>\n",
              "      <td>45</td>\n",
              "      <td>0</td>\n",
              "      <td>-26</td>\n",
              "      <td>0</td>\n",
              "      <td>104</td>\n",
              "      <td>95</td>\n",
              "    </tr>\n",
              "  </tbody>\n",
              "</table>\n",
              "</div>\n",
              "      <button class=\"colab-df-convert\" onclick=\"convertToInteractive('df-62dad21b-bd5d-460f-b90a-ea28f2338f69')\"\n",
              "              title=\"Convert this dataframe to an interactive table.\"\n",
              "              style=\"display:none;\">\n",
              "        \n",
              "  <svg xmlns=\"http://www.w3.org/2000/svg\" height=\"24px\"viewBox=\"0 0 24 24\"\n",
              "       width=\"24px\">\n",
              "    <path d=\"M0 0h24v24H0V0z\" fill=\"none\"/>\n",
              "    <path d=\"M18.56 5.44l.94 2.06.94-2.06 2.06-.94-2.06-.94-.94-2.06-.94 2.06-2.06.94zm-11 1L8.5 8.5l.94-2.06 2.06-.94-2.06-.94L8.5 2.5l-.94 2.06-2.06.94zm10 10l.94 2.06.94-2.06 2.06-.94-2.06-.94-.94-2.06-.94 2.06-2.06.94z\"/><path d=\"M17.41 7.96l-1.37-1.37c-.4-.4-.92-.59-1.43-.59-.52 0-1.04.2-1.43.59L10.3 9.45l-7.72 7.72c-.78.78-.78 2.05 0 2.83L4 21.41c.39.39.9.59 1.41.59.51 0 1.02-.2 1.41-.59l7.78-7.78 2.81-2.81c.8-.78.8-2.07 0-2.86zM5.41 20L4 18.59l7.72-7.72 1.47 1.35L5.41 20z\"/>\n",
              "  </svg>\n",
              "      </button>\n",
              "      \n",
              "  <style>\n",
              "    .colab-df-container {\n",
              "      display:flex;\n",
              "      flex-wrap:wrap;\n",
              "      gap: 12px;\n",
              "    }\n",
              "\n",
              "    .colab-df-convert {\n",
              "      background-color: #E8F0FE;\n",
              "      border: none;\n",
              "      border-radius: 50%;\n",
              "      cursor: pointer;\n",
              "      display: none;\n",
              "      fill: #1967D2;\n",
              "      height: 32px;\n",
              "      padding: 0 0 0 0;\n",
              "      width: 32px;\n",
              "    }\n",
              "\n",
              "    .colab-df-convert:hover {\n",
              "      background-color: #E2EBFA;\n",
              "      box-shadow: 0px 1px 2px rgba(60, 64, 67, 0.3), 0px 1px 3px 1px rgba(60, 64, 67, 0.15);\n",
              "      fill: #174EA6;\n",
              "    }\n",
              "\n",
              "    [theme=dark] .colab-df-convert {\n",
              "      background-color: #3B4455;\n",
              "      fill: #D2E3FC;\n",
              "    }\n",
              "\n",
              "    [theme=dark] .colab-df-convert:hover {\n",
              "      background-color: #434B5C;\n",
              "      box-shadow: 0px 1px 3px 1px rgba(0, 0, 0, 0.15);\n",
              "      filter: drop-shadow(0px 1px 2px rgba(0, 0, 0, 0.3));\n",
              "      fill: #FFFFFF;\n",
              "    }\n",
              "  </style>\n",
              "\n",
              "      <script>\n",
              "        const buttonEl =\n",
              "          document.querySelector('#df-62dad21b-bd5d-460f-b90a-ea28f2338f69 button.colab-df-convert');\n",
              "        buttonEl.style.display =\n",
              "          google.colab.kernel.accessAllowed ? 'block' : 'none';\n",
              "\n",
              "        async function convertToInteractive(key) {\n",
              "          const element = document.querySelector('#df-62dad21b-bd5d-460f-b90a-ea28f2338f69');\n",
              "          const dataTable =\n",
              "            await google.colab.kernel.invokeFunction('convertToInteractive',\n",
              "                                                     [key], {});\n",
              "          if (!dataTable) return;\n",
              "\n",
              "          const docLinkHtml = 'Like what you see? Visit the ' +\n",
              "            '<a target=\"_blank\" href=https://colab.research.google.com/notebooks/data_table.ipynb>data table notebook</a>'\n",
              "            + ' to learn more about interactive tables.';\n",
              "          element.innerHTML = '';\n",
              "          dataTable['output_type'] = 'display_data';\n",
              "          await google.colab.output.renderOutput(dataTable, element);\n",
              "          const docLink = document.createElement('div');\n",
              "          docLink.innerHTML = docLinkHtml;\n",
              "          element.appendChild(docLink);\n",
              "        }\n",
              "      </script>\n",
              "    </div>\n",
              "  </div>\n",
              "  "
            ]
          },
          "metadata": {},
          "execution_count": 8
        }
      ]
    },
    {
      "cell_type": "markdown",
      "metadata": {
        "id": "k9qbxwIlCdZN"
      },
      "source": [
        "##part a"
      ]
    },
    {
      "cell_type": "markdown",
      "metadata": {
        "id": "XOW_lMdF_RY8"
      },
      "source": [
        "#Now we run simulation for 10 replication each of length 100 months. **NO WARM UP PERIOD SPECIFIED FOR THIS PART OF THE QUESTION"
      ]
    },
    {
      "cell_type": "code",
      "metadata": {
        "id": "uh-Txu-9_0CP"
      },
      "source": [
        "mean_profit, mean_cost,csl_list ,data = simulation(no_of_replication = 10, length_of_each_run = 100)"
      ],
      "execution_count": 9,
      "outputs": []
    },
    {
      "cell_type": "code",
      "metadata": {
        "colab": {
          "base_uri": "https://localhost:8080/"
        },
        "id": "77keSPPw_q9E",
        "outputId": "9871571d-16b1-4774-c3fa-69f3be2eb14e"
      },
      "source": [
        "print('mean profit for 10 run', mean_profit)"
      ],
      "execution_count": 10,
      "outputs": [
        {
          "output_type": "stream",
          "name": "stdout",
          "text": [
            "mean profit for 10 run [21.51000000000002, 4.640000000000015, 0.2699999999999818, -0.8500000000000227, 12.269999999999982, -0.44999999999998863, 14.47999999999999, 1.460000000000008, 11.300000000000011, 13.340000000000003]\n"
          ]
        }
      ]
    },
    {
      "cell_type": "code",
      "metadata": {
        "colab": {
          "base_uri": "https://localhost:8080/"
        },
        "id": "iTiZTdJrR-WC",
        "outputId": "53dc18d4-bd25-48bf-f6ae-00b500145ff8"
      },
      "source": [
        "print(np.mean(mean_profit))"
      ],
      "execution_count": 11,
      "outputs": [
        {
          "output_type": "stream",
          "name": "stdout",
          "text": [
            "7.797\n"
          ]
        }
      ]
    },
    {
      "cell_type": "code",
      "metadata": {
        "colab": {
          "base_uri": "https://localhost:8080/"
        },
        "id": "HjkjCjlOAASz",
        "outputId": "b32b3491-ee73-479a-80a1-63ddc79d123a"
      },
      "source": [
        "print('mean monthly for 10 run', mean_cost)"
      ],
      "execution_count": 12,
      "outputs": [
        {
          "output_type": "stream",
          "name": "stdout",
          "text": [
            "mean monthly for 10 run [236.84, 236.16, 231.43, 241.3, 236.83, 231.1, 246.52, 229.44, 230.75, 236.91]\n"
          ]
        }
      ]
    },
    {
      "cell_type": "code",
      "metadata": {
        "colab": {
          "base_uri": "https://localhost:8080/"
        },
        "id": "RSb8ApJhSG_g",
        "outputId": "e6631160-23de-43cb-bd52-5aa8746441ff"
      },
      "source": [
        "print(np.mean(mean_cost))"
      ],
      "execution_count": 13,
      "outputs": [
        {
          "output_type": "stream",
          "name": "stdout",
          "text": [
            "235.72799999999998\n"
          ]
        }
      ]
    },
    {
      "cell_type": "code",
      "metadata": {
        "colab": {
          "base_uri": "https://localhost:8080/"
        },
        "id": "RqgX-HiUJG6I",
        "outputId": "ad185ed1-e9b0-49ac-9a75-97a053098149"
      },
      "source": [
        "print('cycle service level for 10 run', csl_list)"
      ],
      "execution_count": 14,
      "outputs": [
        {
          "output_type": "stream",
          "name": "stdout",
          "text": [
            "cycle service level for 10 run [0.6, 0.58, 0.73, 0.7, 0.61, 0.61, 0.55, 0.78, 0.71, 0.62]\n"
          ]
        }
      ]
    },
    {
      "cell_type": "markdown",
      "metadata": {
        "id": "BZ2wjqhjCZ3d"
      },
      "source": [
        "##part b"
      ]
    },
    {
      "cell_type": "markdown",
      "metadata": {
        "id": "u2aCzqHACN0R"
      },
      "source": [
        "Now lets calculate CI for cost and profit"
      ]
    },
    {
      "cell_type": "code",
      "metadata": {
        "id": "Ej32ZACYATlh"
      },
      "source": [
        "import statistics"
      ],
      "execution_count": 15,
      "outputs": []
    },
    {
      "cell_type": "code",
      "metadata": {
        "colab": {
          "base_uri": "https://localhost:8080/"
        },
        "id": "V1m9UPZWAb06",
        "outputId": "b00a0db1-3bdd-4c31-dd6e-0bc95ec8dc07"
      },
      "source": [
        "mean_mc = np.mean(mean_cost)\n",
        "print('mean of 90% CI for mean_monthly_cost',mean_mc)"
      ],
      "execution_count": 16,
      "outputs": [
        {
          "output_type": "stream",
          "name": "stdout",
          "text": [
            "mean of 90% CI for mean_monthly_cost 235.72799999999998\n"
          ]
        }
      ]
    },
    {
      "cell_type": "code",
      "metadata": {
        "colab": {
          "base_uri": "https://localhost:8080/"
        },
        "id": "g_aTQ1uvAaG6",
        "outputId": "f444d672-a6da-4b05-8638-2523613f8299"
      },
      "source": [
        "#90% CI FOR MEAN COST\n",
        "S = (statistics.variance(mean_cost))**0.5 #standard deviation\n",
        "R = 10\n",
        "t = 1.833 # for alpha = 0.1 \n",
        "hw_cost  = t*S/np.sqrt(R)\n",
        "print('#90% CI half width for mean_monthly_cost',hw_cost)"
      ],
      "execution_count": 17,
      "outputs": [
        {
          "output_type": "stream",
          "name": "stdout",
          "text": [
            "#90% CI half width for mean_monthly_cost 3.08999173725368\n"
          ]
        }
      ]
    },
    {
      "cell_type": "code",
      "metadata": {
        "colab": {
          "base_uri": "https://localhost:8080/"
        },
        "id": "zpZBOFYLAgBJ",
        "outputId": "6c0d373f-43f6-4a4c-97b1-72c43d22680a"
      },
      "source": [
        "mean_mp = np.mean(mean_profit)\n",
        "print('mean of 90% CI for monthly_profit',mean_mp)"
      ],
      "execution_count": 18,
      "outputs": [
        {
          "output_type": "stream",
          "name": "stdout",
          "text": [
            "mean of 90% CI for monthly_profit 7.797\n"
          ]
        }
      ]
    },
    {
      "cell_type": "code",
      "metadata": {
        "colab": {
          "base_uri": "https://localhost:8080/"
        },
        "id": "wyvljamzAd3x",
        "outputId": "c7f57ec7-c39f-46c6-963c-1f4b080223ad"
      },
      "source": [
        "#90% CI FOR MEAN profit\n",
        "S = (statistics.variance(mean_profit))**0.5\n",
        "R = 10\n",
        "t = 1.833 #alpha = 0.1, \n",
        "hw_profit  = t*S/np.sqrt(R)\n",
        "print('#90% CI half width for monthly_profit',hw_profit)"
      ],
      "execution_count": 19,
      "outputs": [
        {
          "output_type": "stream",
          "name": "stdout",
          "text": [
            "#90% CI half width for monthly_profit 4.511795488818284\n"
          ]
        }
      ]
    },
    {
      "cell_type": "markdown",
      "metadata": {
        "id": "73w2mIC-D2TN"
      },
      "source": [
        "lets calculate no. of replication for half width of monthly cost to be under 5."
      ]
    },
    {
      "cell_type": "code",
      "metadata": {
        "colab": {
          "base_uri": "https://localhost:8080/"
        },
        "id": "xUUeWR3hAjKY",
        "outputId": "066b3e06-8122-4b05-c820-52b019121f29"
      },
      "source": [
        "#for hw = 5 of monthly cost\n",
        "R = 10\n",
        "R_req = R*((hw_cost)**2)/25\n",
        "print('#for hw = 5 of monthly cost requred R',np.ceil(R_req))"
      ],
      "execution_count": 20,
      "outputs": [
        {
          "output_type": "stream",
          "name": "stdout",
          "text": [
            "#for hw = 5 of monthly cost requred R 4.0\n"
          ]
        }
      ]
    },
    {
      "cell_type": "markdown",
      "metadata": {
        "id": "yakq6u6dETg9"
      },
      "source": [
        "Now we run simulation again with required R."
      ]
    },
    {
      "cell_type": "code",
      "metadata": {
        "id": "8tft5p6YAl2Z"
      },
      "source": [
        "new_mp, new_mc,new_sl_list ,data = simulation(int(R_req))\n"
      ],
      "execution_count": 21,
      "outputs": []
    },
    {
      "cell_type": "code",
      "metadata": {
        "colab": {
          "base_uri": "https://localhost:8080/"
        },
        "id": "ShtdjgEJAplh",
        "outputId": "7cca0d00-c696-4ef2-becb-41f0ccaa661e"
      },
      "source": [
        "mean_new_mc = np.mean(new_mc)\n",
        "print(mean_new_mc)"
      ],
      "execution_count": 22,
      "outputs": [
        {
          "output_type": "stream",
          "name": "stdout",
          "text": [
            "225.99666666666667\n"
          ]
        }
      ]
    },
    {
      "cell_type": "code",
      "metadata": {
        "colab": {
          "base_uri": "https://localhost:8080/"
        },
        "id": "V0FpdRkCAr-Y",
        "outputId": "3e3f35ef-f2d9-47f8-ba55-a30a3ace6525"
      },
      "source": [
        "#90% CI FOR  new MEAN profit\n",
        "S = (statistics.variance(new_mc))**0.5\n",
        "R = R_req\n",
        "t = 1.79 #alpha = 0.1, \n",
        "hw_new_cost  = t*S/np.sqrt(R)\n",
        "print('NEW HALF WIDTH FOR 90% CI OF MONTHLY COST',hw_new_cost)"
      ],
      "execution_count": 23,
      "outputs": [
        {
          "output_type": "stream",
          "name": "stdout",
          "text": [
            "NEW HALF WIDTH FOR 90% CI OF MONTHLY COST 6.232717933949233\n"
          ]
        }
      ]
    },
    {
      "cell_type": "markdown",
      "metadata": {
        "id": "D7Dx-syiEjil"
      },
      "source": [
        "Now half width for 90% CI of monthly cost is around 2.66 which is less than 5 as required."
      ]
    },
    {
      "cell_type": "markdown",
      "metadata": {
        "id": "BmbtDvAiFSNV"
      },
      "source": [
        "simulation optimization part is done in 2nd file."
      ]
    }
  ]
}